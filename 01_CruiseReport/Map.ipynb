{
 "cells": [
  {
   "cell_type": "code",
   "execution_count": 1,
   "id": "76b365d8",
   "metadata": {},
   "outputs": [
    {
     "name": "stderr",
     "output_type": "stream",
     "text": [
      "/home/maltem/.local/lib/python3.10/site-packages/pandas/core/arrays/masked.py:62: UserWarning: Pandas requires version '1.3.4' or newer of 'bottleneck' (version '1.3.2' currently installed).\n",
      "  from pandas.core import (\n"
     ]
    }
   ],
   "source": [
    "from netCDF4 import Dataset as ncfile\n",
    "import pickle\n",
    "import math\n",
    "import matplotlib as mpl\n",
    "import matplotlib.colors as colors\n",
    "import matplotlib.pyplot as plt\n",
    "from matplotlib.colors import BoundaryNorm\n",
    "import cmocean\n",
    "import numpy as np\n",
    "import numpy.ma as ma\n",
    "\n",
    "import os \n",
    "import xarray as xr\n",
    "import pandas as pd\n",
    "import pyproj\n",
    "\n",
    "import cartopy\n",
    "import cartopy.crs as ccrs\n",
    "import cartopy.feature as cpf\n",
    "from cartopy.feature import NaturalEarthFeature, LAND, COASTLINE\n",
    "from cartopy.mpl.gridliner import LATITUDE_FORMATTER, LONGITUDE_FORMATTER\n",
    "from datetime import datetime, timedelta\n",
    "\n",
    "import LambertLabels"
   ]
  },
  {
   "cell_type": "code",
   "execution_count": 2,
   "id": "a7df2274",
   "metadata": {},
   "outputs": [],
   "source": [
    "# Model experiments\n",
    "arch_dir='/lustre/storeB/users/maltem/Arctic/BasicAA/'\n",
    "#SIC_amsr = xr.open_mfdataset(arch_dir+'SIC.basic_aa_amsr2_sic.Mar2019.nc')\n",
    "#SIC_mult = xr.open_mfdataset(arch_dir+'SIC.basic_aa_new_sic.Mar2019.nc')\n",
    "\n",
    "# Model experiments\n",
    "arch_dir='../../python/data/basicAA/'\n",
    "GRIDdummy = xr.open_mfdataset(arch_dir+'mean.diff.SFX_ICE_THK.basic_aa_new-amsr2.Mar2019.nc')\n",
    "alat=np.array(GRIDdummy['latitude'])\n",
    "alon=np.array(GRIDdummy['longitude'])\n",
    "\n",
    "icechart = xr.open_mfdataset('ice_conc_svalbard_202403271500.nc')\n",
    "clat = np.array(icechart['lat'])\n",
    "clon = np.array(icechart['lon'])"
   ]
  },
  {
   "cell_type": "code",
   "execution_count": 3,
   "id": "8b9d2aa7",
   "metadata": {},
   "outputs": [
    {
     "data": {
      "text/plain": [
       "(1, 2980, 3812)"
      ]
     },
     "execution_count": 3,
     "metadata": {},
     "output_type": "execute_result"
    }
   ],
   "source": [
    "np.shape(np.array(icechart.ice_concentration))"
   ]
  },
  {
   "cell_type": "code",
   "execution_count": 6,
   "id": "66626c7e",
   "metadata": {},
   "outputs": [
    {
     "data": {
      "image/png": "[encoded data removed]",
      "text/plain": [
       "<Figure size 576x576 with 1 Axes>"
      ]
     },
     "metadata": {},
     "output_type": "display_data"
    }
   ],
   "source": [
    "map_proj = ccrs.LambertConformal(central_latitude=77.5,\n",
    "                                 central_longitude=-25,\n",
    "                                 standard_parallels=(77.5,77.5))\n",
    "PRJ = pyproj.Proj(map_proj.proj4_init)\n",
    "x0,y0 = PRJ(alon[380,140],alat[380,140])\n",
    "x1,y1 = PRJ(alon[670,490],alat[670,490])\n",
    "LAND_highres = cpf.NaturalEarthFeature('physical', 'land', '50m', edgecolor='face', \\\n",
    "                                       facecolor = 'darkgrey', linewidth=.1)\n",
    "sizefont = 18\n",
    "ice_cmap = colors.ListedColormap(['none','grey'])\n",
    "ice_levels = np.linspace(0,1,3)\n",
    "ice_norm = BoundaryNorm(ice_levels, 31)\n",
    "xticks = [-20,-10, -8,-6,-4,-2,0,2,4,6,8,10,12,14,16,18,20,22,24,26,28,30,32,34,36,38,40,50,60,70,80,90,100,110,120]\n",
    "yticks = [60,65,70, 75,76,77,78,79,80,81,82,83, 85,90]\n",
    "\n",
    "fig, axs = plt.subplots(1,1, figsize=(8,8), facecolor='w', edgecolor='k')\n",
    "fig.subplots_adjust(hspace = 0.1, wspace=0.3)\n",
    "\n",
    "\n",
    "Lat = [78.2022, 77.6873, 77.0002, 78.0625, 78.9218, 78.2278, 78.6557, 78.2453, 76.4733, 80.0555,\n",
    "       74.5035,  71.0937, 71.3112, 70.7057, 71.0888, 70.2452,\n",
    "       78.2508,  76.5097, 80.6518, 78.9067, 80.1035]\n",
    "Lon = [15.831,  14.7578, 15.5353, 13.6192, 11.9325, 15.378,  16.3603, 15.5015, 16.5428, 16.2433,\n",
    "        18.998,   23.9817,  22.25,  30.07,   28.217,  19.4997,\n",
    "       22.8225,  25.0133, 25.0048, 28.8883, 31.4585]\n",
    "\n",
    "\n",
    "# Surface Temperature  -----------------------------------------------------\n",
    "#----\n",
    "\n",
    "levels = np.linspace(0.,100 , 31)  # color bar\n",
    "lticks =np.arange(0, 100+10, 10)\n",
    "norm = BoundaryNorm(levels, 256)\n",
    "colorscale = 'cmo.ice'\n",
    "\n",
    "\n",
    "# (a)  -------\n",
    "axs = plt.subplot(1,1,1, projection = map_proj)\n",
    "axs.set_title('', fontsize = sizefont)\n",
    "\n",
    "axs.pcolormesh(clon,clat,np.squeeze(np.array(icechart.ice_concentration)), transform = ccrs.PlateCarree())\n",
    "\n",
    "\n",
    "dx=18\n",
    "\n",
    "for j in range(265,360,dx):\n",
    "    i=range(570,660,dx)\n",
    "    axs.scatter(alon[i,j],alat[i,j],color='r',marker='o',transform = ccrs.PlateCarree())\n",
    "# Storfjorden\n",
    "#for j in range(255,310,dx):\n",
    "#    i=range(500,550,dx)\n",
    "#    axs.scatter(alon[i,j],alat[i,j],color='r',marker='o',transform = ccrs.PlateCarree())\n",
    "\n",
    "axs.add_feature(LAND_highres, zorder = 1, alpha = 1.0)\n",
    "\n",
    "axs.set_xlim(x0,x1)\n",
    "axs.set_ylim(y0,y1)\n",
    "# Make Lambert Grid Lines:\n",
    "fig.canvas.draw() # must call this for labeling to work properly on outer boundary of figure.\n",
    "axs.gridlines(xlocs=xticks, ylocs=yticks,color='dimgrey')\n",
    "axs.xaxis.set_major_formatter(LONGITUDE_FORMATTER) \n",
    "axs.yaxis.set_major_formatter(LATITUDE_FORMATTER)\n",
    "#LambertLabels.lambert_xticks(axs, xticks)\n",
    "#LambertLabels.lambert_yticks(axs, yticks)\n",
    "\n",
    "fig.savefig('icechartsaf_seaiceconcentration_case.png')\n"
   ]
  },
  {
   "cell_type": "code",
   "execution_count": 8,
   "id": "22eeacf1",
   "metadata": {},
   "outputs": [
    {
     "data": {
      "text/plain": [
       "-17.956999587953376"
      ]
     },
     "execution_count": 8,
     "metadata": {},
     "output_type": "execute_result"
    }
   ],
   "source": [
    "alon[0,0]"
   ]
  },
  {
   "cell_type": "code",
   "execution_count": 11,
   "id": "68a3553f",
   "metadata": {},
   "outputs": [
    {
     "data": {
      "text/plain": [
       "82.48870949558244"
      ]
     },
     "execution_count": 11,
     "metadata": {},
     "output_type": "execute_result"
    }
   ],
   "source": [
    "alat[600,0]"
   ]
  },
  {
   "cell_type": "code",
   "execution_count": null,
   "id": "298c1d5f",
   "metadata": {},
   "outputs": [],
   "source": []
  }
 ],
 "metadata": {
  "kernelspec": {
   "display_name": "Python 3 (ipykernel)",
   "language": "python",
   "name": "python3"
  },
  "language_info": {
   "codemirror_mode": {
    "name": "ipython",
    "version": 3
   },
   "file_extension": ".py",
   "mimetype": "text/x-python",
   "name": "python",
   "nbconvert_exporter": "python",
   "pygments_lexer": "ipython3",
   "version": "3.10.12"
  }
 },
 "nbformat": 4,
 "nbformat_minor": 5
}
