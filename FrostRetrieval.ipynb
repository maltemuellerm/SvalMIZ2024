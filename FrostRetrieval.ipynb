{
 "cells": [
  {
   "cell_type": "code",
   "execution_count": 47,
   "id": "82fe1179",
   "metadata": {},
   "outputs": [],
   "source": [
    "# Libraries needed (pandas is not standard and must be installed in Python)\n",
    "import requests\n",
    "import pandas as pd\n",
    "import matplotlib.pyplot as plt\n",
    "# Insert your own client ID here\n",
    "client_id = 'c310ac63-73e2-4482-a855-5497b62c81cc'"
   ]
  },
  {
   "cell_type": "code",
   "execution_count": 64,
   "id": "e87348ed",
   "metadata": {},
   "outputs": [],
   "source": [
    "# Define endpoint and parameters\n",
    "endpoint = 'https://frost.met.no/observations/v0.jsonld'\n",
    "parameters = {\n",
    "    'sources': 'SN99938,SN99935,SN99927',\n",
    "    'elements': 'air_temperature',\n",
    "    'referencetime': '2024-04-05/2024-05-05',\n",
    "}\n",
    "# Issue an HTTP GET request\n",
    "r = requests.get(endpoint, parameters, auth=(client_id,''))\n",
    "# Extract JSON data\n",
    "json = r.json()"
   ]
  },
  {
   "cell_type": "code",
   "execution_count": 65,
   "id": "7139eceb",
   "metadata": {},
   "outputs": [
    {
     "name": "stdout",
     "output_type": "stream",
     "text": [
      "Data retrieved from frost.met.no!\n"
     ]
    }
   ],
   "source": [
    "# Check if the request worked, print out any errors\n",
    "if r.status_code == 200:\n",
    "    data = json['data']\n",
    "    print('Data retrieved from frost.met.no!')\n",
    "else:\n",
    "    print('Error! Returned status code %s' % r.status_code)\n",
    "    print('Message: %s' % json['error']['message'])\n",
    "    print('Reason: %s' % json['error']['reason'])"
   ]
  },
  {
   "cell_type": "code",
   "execution_count": 66,
   "id": "fe48115f",
   "metadata": {},
   "outputs": [],
   "source": [
    "# This will return a Dataframe with all of the observations in a table format\n",
    "df = pd.DataFrame()\n",
    "for i in range(len(data)):\n",
    "    row = pd.DataFrame(data[i]['observations'])\n",
    "    row['referenceTime'] = data[i]['referenceTime']\n",
    "    row['sourceId'] = data[i]['sourceId']\n",
    "    #df = df.append(row)\n",
    "    if df.empty:\n",
    "        df = row\n",
    "    else:\n",
    "        df = pd.concat([df, pd.DataFrame(row)])\n",
    "\n",
    "df = df.reset_index()"
   ]
  },
  {
   "cell_type": "code",
   "execution_count": 67,
   "id": "40cefaec",
   "metadata": {},
   "outputs": [],
   "source": [
    "# These additional columns will be kept\n",
    "columns = ['sourceId','referenceTime','elementId','value','unit','timeOffset']\n",
    "df2 = df[columns].copy()\n",
    "# Convert the time value to something Python understands\n",
    "df2['referenceTime'] = pd.to_datetime(df2['referenceTime'])"
   ]
  },
  {
   "cell_type": "code",
   "execution_count": null,
   "id": "f6a7fa82",
   "metadata": {},
   "outputs": [],
   "source": []
  },
  {
   "cell_type": "code",
   "execution_count": 72,
   "id": "820aa7d2",
   "metadata": {},
   "outputs": [
    {
     "data": {
      "text/plain": [
       "(-30.0, -15.0)"
      ]
     },
     "execution_count": 72,
     "metadata": {},
     "output_type": "execute_result"
    },
    {
     "data": {
      "image/png": "[encoded data removed]",
      "text/plain": [
       "<Figure size 576x288 with 2 Axes>"
      ]
     },
     "metadata": {
      "needs_background": "light"
     },
     "output_type": "display_data"
    }
   ],
   "source": [
    "dfA = df2[df2.sourceId=='SN99927:0']\n",
    "dfB = df2[df2.sourceId=='SN99935:0']\n",
    "dfC = df2[df2.sourceId=='SN99938:0']\n",
    "\n",
    "fig, ax = plt.subplots(figsize=(8, 4),nrows=2,ncols=1)\n",
    "\n",
    "#ax[1].plot(dfA.referenceTime.values,dfA.value.values,marker='.',linewidth=0.2,color='k')\n",
    "ax[1].plot(dfB.referenceTime.values,dfB.value.values,marker='.',linewidth=0.2,color='g')\n",
    "#ax[1].plot(dfC.referenceTime.values,dfC.value.values,marker='.',linewidth=0.2,color='r')\n",
    "\n",
    "ax[1].set_ylim(ymin=-30, ymax=-15)"
   ]
  },
  {
   "cell_type": "code",
   "execution_count": 69,
   "id": "3d347feb",
   "metadata": {},
   "outputs": [],
   "source": [
    "df2.to_pickle('tmpInSitu.pkl')    #to save the dataframe, df to 123.pkl\n",
    "#df1 = pd.read_pickle('123.pkl') #to load 123.pkl back to the dataframe df"
   ]
  },
  {
   "cell_type": "code",
   "execution_count": null,
   "id": "13fc96be",
   "metadata": {},
   "outputs": [],
   "source": []
  },
  {
   "cell_type": "code",
   "execution_count": null,
   "id": "4bafa55b",
   "metadata": {},
   "outputs": [],
   "source": []
  }
 ],
 "metadata": {
  "kernelspec": {
   "display_name": "Python 3 (ipykernel)",
   "language": "python",
   "name": "python3"
  },
  "language_info": {
   "codemirror_mode": {
    "name": "ipython",
    "version": 3
   },
   "file_extension": ".py",
   "mimetype": "text/x-python",
   "name": "python",
   "nbconvert_exporter": "python",
   "pygments_lexer": "ipython3",
   "version": "3.10.12"
  }
 },
 "nbformat": 4,
 "nbformat_minor": 5
}
